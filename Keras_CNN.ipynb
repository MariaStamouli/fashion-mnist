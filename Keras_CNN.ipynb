{
  "nbformat": 4,
  "nbformat_minor": 0,
  "metadata": {
    "colab": {
      "name": "Maria_Stamouli_CNNs.ipynb",
      "version": "0.3.2",
      "provenance": [],
      "collapsed_sections": []
    },
    "kernelspec": {
      "name": "python3",
      "display_name": "Python 3"
    },
    "accelerator": "GPU"
  },
  "cells": [
    {
      "metadata": {
        "id": "7cZJiY4Deyse",
        "colab_type": "code",
        "outputId": "f26e0465-b118-4c00-87ba-0cfa7108883b",
        "colab": {
          "base_uri": "https://localhost:8080/",
          "height": 52
        }
      },
      "cell_type": "code",
      "source": [
        "from keras.datasets import fashion_mnist\n",
        "\n",
        "\n",
        "(X_train, y_train), (X_test, y_test) = fashion_mnist.load_data()\n",
        "\n",
        "print(\"Shape of training matrix:\", X_train.shape)\n",
        "print(\"Shape of test matrix:\", X_test.shape)"
      ],
      "execution_count": 15,
      "outputs": [
        {
          "output_type": "stream",
          "text": [
            "Shape of training matrix: (60000, 28, 28)\n",
            "Shape of test matrix: (10000, 28, 28)\n"
          ],
          "name": "stdout"
        }
      ]
    },
    {
      "metadata": {
        "id": "htvAkmMAeysv",
        "colab_type": "code",
        "colab": {}
      },
      "cell_type": "code",
      "source": [
        "# We have to reshape appropriately before we feed the CNN\n",
        "\n",
        "X_train = X_train.reshape(X_train.shape[0],28, 28, 1)\n",
        "X_test = X_test.reshape(X_test.shape[0],28, 28, 1)"
      ],
      "execution_count": 0,
      "outputs": []
    },
    {
      "metadata": {
        "id": "IYkMAS17eys3",
        "colab_type": "code",
        "colab": {}
      },
      "cell_type": "code",
      "source": [
        "# Scaling\n",
        "\n",
        "X_train = X_train /255.0 \n",
        "X_test = X_test /255.0"
      ],
      "execution_count": 0,
      "outputs": []
    },
    {
      "metadata": {
        "id": "5uK8lCDyeys9",
        "colab_type": "code",
        "outputId": "6617009f-240e-4337-d383-37b9bbb219e7",
        "colab": {
          "base_uri": "https://localhost:8080/",
          "height": 1326
        }
      },
      "cell_type": "code",
      "source": [
        "from keras.models import Sequential\n",
        "from keras.layers import MaxPooling2D,Dense, Dropout, Flatten,Conv2D\n",
        "from keras.callbacks import EarlyStopping\n",
        "import matplotlib.pyplot as plt\n",
        "import numpy as np\n",
        "from tensorflow import set_random_seed\n",
        "\n",
        "set_random_seed(432)\n",
        "np.random.seed(234)\n",
        "\n",
        "model = Sequential()\n",
        "model.add(Conv2D(32, kernel_size=(3, 3), activation='relu',padding='same', input_shape=(28, 28, 1)))\n",
        "model.add(Conv2D(64, kernel_size=(2, 2), padding='same',activation='relu'))\n",
        "model.add(MaxPooling2D(pool_size=(2, 2)))\n",
        "model.add(Dropout(0.20))\n",
        "model.add(Flatten())\n",
        "model.add(Dense(128, activation='relu'))\n",
        "model.add(Dropout(0.4))\n",
        "model.add(Dense(10, activation='softmax'))\n",
        "\n",
        "es = EarlyStopping(monitor='val_loss', mode='min', verbose=1, patience=10)\n",
        "\n",
        "\n",
        "model.compile(loss='sparse_categorical_crossentropy',\n",
        "              optimizer='adam',\n",
        "              metrics=['accuracy'])\n",
        "\n",
        "model.summary()\n",
        "\n",
        "epochs = 30\n",
        "batch_size = 64\n",
        "\n",
        "history = model.fit(X_train, y_train,\n",
        "          batch_size=batch_size,\n",
        "          epochs=epochs,\n",
        "          verbose=1,\n",
        "          validation_split=0.2,\n",
        "          callbacks=[es])\n",
        "\n",
        "plt.rcParams['figure.figsize'] = [10, 5]\n",
        "plt.rcParams['font.size'] = 16\n",
        "plt.plot(history.history['loss'], label='Train loss')\n",
        "plt.plot(history.history['val_loss'], label='Validation loss')\n",
        "x_ticks = np.arange(0, epochs + 1, 5)\n",
        "x_ticks [0] += 1\n",
        "plt.xticks(x_ticks)\n",
        "plt.ylim((0, 1))\n",
        "plt.xlabel('Epochs')\n",
        "plt.ylabel('loss')\n",
        "plt.title(\"Epochs-Loss for CNN\")\n",
        "plt.legend()\n",
        "plt.show()"
      ],
      "execution_count": 19,
      "outputs": [
        {
          "output_type": "stream",
          "text": [
            "_________________________________________________________________\n",
            "Layer (type)                 Output Shape              Param #   \n",
            "=================================================================\n",
            "conv2d_21 (Conv2D)           (None, 28, 28, 32)        320       \n",
            "_________________________________________________________________\n",
            "conv2d_22 (Conv2D)           (None, 28, 28, 64)        8256      \n",
            "_________________________________________________________________\n",
            "max_pooling2d_11 (MaxPooling (None, 14, 14, 64)        0         \n",
            "_________________________________________________________________\n",
            "dropout_21 (Dropout)         (None, 14, 14, 64)        0         \n",
            "_________________________________________________________________\n",
            "flatten_11 (Flatten)         (None, 12544)             0         \n",
            "_________________________________________________________________\n",
            "dense_21 (Dense)             (None, 128)               1605760   \n",
            "_________________________________________________________________\n",
            "dropout_22 (Dropout)         (None, 128)               0         \n",
            "_________________________________________________________________\n",
            "dense_22 (Dense)             (None, 10)                1290      \n",
            "=================================================================\n",
            "Total params: 1,615,626\n",
            "Trainable params: 1,615,626\n",
            "Non-trainable params: 0\n",
            "_________________________________________________________________\n",
            "Train on 48000 samples, validate on 12000 samples\n",
            "Epoch 1/30\n",
            "48000/48000 [==============================] - 11s 239us/step - loss: 0.4758 - acc: 0.8320 - val_loss: 0.3093 - val_acc: 0.8865\n",
            "Epoch 2/30\n",
            "48000/48000 [==============================] - 11s 219us/step - loss: 0.3076 - acc: 0.8892 - val_loss: 0.2593 - val_acc: 0.9022\n",
            "Epoch 3/30\n",
            "48000/48000 [==============================] - 11s 220us/step - loss: 0.2551 - acc: 0.9065 - val_loss: 0.2406 - val_acc: 0.9118\n",
            "Epoch 4/30\n",
            "48000/48000 [==============================] - 11s 219us/step - loss: 0.2272 - acc: 0.9178 - val_loss: 0.2303 - val_acc: 0.9143\n",
            "Epoch 5/30\n",
            "48000/48000 [==============================] - 11s 220us/step - loss: 0.1973 - acc: 0.9272 - val_loss: 0.2118 - val_acc: 0.9210\n",
            "Epoch 6/30\n",
            "48000/48000 [==============================] - 11s 219us/step - loss: 0.1778 - acc: 0.9340 - val_loss: 0.2187 - val_acc: 0.9208\n",
            "Epoch 7/30\n",
            "48000/48000 [==============================] - 10s 219us/step - loss: 0.1567 - acc: 0.9409 - val_loss: 0.2154 - val_acc: 0.9254\n",
            "Epoch 8/30\n",
            "48000/48000 [==============================] - 11s 219us/step - loss: 0.1405 - acc: 0.9474 - val_loss: 0.2177 - val_acc: 0.9262\n",
            "Epoch 9/30\n",
            "48000/48000 [==============================] - 11s 219us/step - loss: 0.1269 - acc: 0.9522 - val_loss: 0.2159 - val_acc: 0.9267\n",
            "Epoch 10/30\n",
            "48000/48000 [==============================] - 10s 218us/step - loss: 0.1153 - acc: 0.9567 - val_loss: 0.2296 - val_acc: 0.9261\n",
            "Epoch 11/30\n",
            "48000/48000 [==============================] - 11s 220us/step - loss: 0.1029 - acc: 0.9613 - val_loss: 0.2219 - val_acc: 0.9293\n",
            "Epoch 12/30\n",
            "48000/48000 [==============================] - 11s 219us/step - loss: 0.0935 - acc: 0.9645 - val_loss: 0.2435 - val_acc: 0.9239\n",
            "Epoch 13/30\n",
            "48000/48000 [==============================] - 11s 219us/step - loss: 0.0850 - acc: 0.9675 - val_loss: 0.2402 - val_acc: 0.9277\n",
            "Epoch 14/30\n",
            "48000/48000 [==============================] - 11s 220us/step - loss: 0.0780 - acc: 0.9712 - val_loss: 0.2393 - val_acc: 0.9288\n",
            "Epoch 15/30\n",
            "48000/48000 [==============================] - 11s 219us/step - loss: 0.0737 - acc: 0.9710 - val_loss: 0.2524 - val_acc: 0.9284\n",
            "Epoch 00015: early stopping\n"
          ],
          "name": "stdout"
        },
        {
          "output_type": "display_data",
          "data": {
            "image/png": "[encoded data removed]",
            "text/plain": [
              "<Figure size 720x360 with 1 Axes>"
            ]
          },
          "metadata": {
            "tags": []
          }
        }
      ]
    },
    {
      "metadata": {
        "id": "vDEUjzxfsNwK",
        "colab_type": "code",
        "colab": {
          "base_uri": "https://localhost:8080/",
          "height": 123
        },
        "outputId": "4b42d91d-8023-47f1-9876-892bf5d184bf"
      },
      "cell_type": "code",
      "source": [
        "pos = np.argmin(history.history['val_loss'])\n",
        "print(\"The epoch with the minimum validation loss is:\", pos+1)\n",
        "print(\"The Train Accuracy is: {0:.5f}\".format(history.history['acc'][pos]))\n",
        "print(\"The Validation Accuracy is: {0:.5f}\".format(history.history['val_acc'][pos]))\n",
        "\n",
        "\n",
        "loss, accuracy = model.evaluate(X_test, y_test)\n",
        "print('Test loss:', loss)\n",
        "print('Test accuracy:', accuracy)"
      ],
      "execution_count": 21,
      "outputs": [
        {
          "output_type": "stream",
          "text": [
            "The epoch with the minimum validation loss is: 5\n",
            "The Train Accuracy is: 0.92725\n",
            "The Validation Accuracy is: 0.92100\n",
            "10000/10000 [==============================] - 1s 120us/step\n",
            "Test loss: 0.28807361024171113\n",
            "Test accuracy: 0.9252\n"
          ],
          "name": "stdout"
        }
      ]
    },
    {
      "metadata": {
        "id": "QvDJAV9Reyt9",
        "colab_type": "code",
        "colab": {}
      },
      "cell_type": "code",
      "source": [
        ""
      ],
      "execution_count": 0,
      "outputs": []
    }
  ]
}